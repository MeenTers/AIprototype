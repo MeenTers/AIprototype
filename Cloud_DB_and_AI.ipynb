{
  "nbformat": 4,
  "nbformat_minor": 0,
  "metadata": {
    "colab": {
      "name": "Cloud DB and AI.ipynb",
      "provenance": [],
      "authorship_tag": "ABX9TyO8pXYC1VYzNixmhe2KJ/DU",
      "include_colab_link": true
    },
    "kernelspec": {
      "name": "python3",
      "display_name": "Python 3"
    },
    "language_info": {
      "name": "python"
    }
  },
  "cells": [
    {
      "cell_type": "markdown",
      "metadata": {
        "id": "view-in-github",
        "colab_type": "text"
      },
      "source": [
        "<a href=\"https://colab.research.google.com/github/MeenTers/AIprototype/blob/main/Cloud_DB_and_AI.ipynb\" target=\"_parent\"><img src=\"https://colab.research.google.com/assets/colab-badge.svg\" alt=\"Open In Colab\"/></a>"
      ]
    },
    {
      "cell_type": "code",
      "execution_count": 1,
      "metadata": {
        "colab": {
          "base_uri": "https://localhost:8080/"
        },
        "id": "M4Ll3WA7GAOS",
        "outputId": "3f052da4-440f-483d-c7f4-f6e2c22f00f2"
      },
      "outputs": [
        {
          "output_type": "stream",
          "name": "stdout",
          "text": [
            "Collecting azure-data-tables\n",
            "  Downloading azure_data_tables-12.2.0-py2.py3-none-any.whl (108 kB)\n",
            "\u001b[?25l\r\u001b[K     |███                             | 10 kB 27.3 MB/s eta 0:00:01\r\u001b[K     |██████                          | 20 kB 29.5 MB/s eta 0:00:01\r\u001b[K     |█████████                       | 30 kB 33.5 MB/s eta 0:00:01\r\u001b[K     |████████████▏                   | 40 kB 26.9 MB/s eta 0:00:01\r\u001b[K     |███████████████▏                | 51 kB 22.6 MB/s eta 0:00:01\r\u001b[K     |██████████████████▏             | 61 kB 25.1 MB/s eta 0:00:01\r\u001b[K     |█████████████████████▏          | 71 kB 19.2 MB/s eta 0:00:01\r\u001b[K     |████████████████████████▎       | 81 kB 20.5 MB/s eta 0:00:01\r\u001b[K     |███████████████████████████▎    | 92 kB 21.9 MB/s eta 0:00:01\r\u001b[K     |██████████████████████████████▎ | 102 kB 23.6 MB/s eta 0:00:01\r\u001b[K     |████████████████████████████████| 108 kB 23.6 MB/s \n",
            "\u001b[?25hCollecting msrest>=0.6.21\n",
            "  Downloading msrest-0.6.21-py2.py3-none-any.whl (85 kB)\n",
            "\u001b[K     |████████████████████████████████| 85 kB 5.6 MB/s \n",
            "\u001b[?25hCollecting azure-core<2.0.0,>=1.14.0\n",
            "  Downloading azure_core-1.22.0-py3-none-any.whl (178 kB)\n",
            "\u001b[K     |████████████████████████████████| 178 kB 63.0 MB/s \n",
            "\u001b[?25hRequirement already satisfied: requests>=2.18.4 in /usr/local/lib/python3.7/dist-packages (from azure-core<2.0.0,>=1.14.0->azure-data-tables) (2.23.0)\n",
            "Requirement already satisfied: six>=1.11.0 in /usr/local/lib/python3.7/dist-packages (from azure-core<2.0.0,>=1.14.0->azure-data-tables) (1.15.0)\n",
            "Requirement already satisfied: requests-oauthlib>=0.5.0 in /usr/local/lib/python3.7/dist-packages (from msrest>=0.6.21->azure-data-tables) (1.3.1)\n",
            "Collecting isodate>=0.6.0\n",
            "  Downloading isodate-0.6.1-py2.py3-none-any.whl (41 kB)\n",
            "\u001b[K     |████████████████████████████████| 41 kB 930 kB/s \n",
            "\u001b[?25hRequirement already satisfied: certifi>=2017.4.17 in /usr/local/lib/python3.7/dist-packages (from msrest>=0.6.21->azure-data-tables) (2021.10.8)\n",
            "Requirement already satisfied: chardet<4,>=3.0.2 in /usr/local/lib/python3.7/dist-packages (from requests>=2.18.4->azure-core<2.0.0,>=1.14.0->azure-data-tables) (3.0.4)\n",
            "Requirement already satisfied: urllib3!=1.25.0,!=1.25.1,<1.26,>=1.21.1 in /usr/local/lib/python3.7/dist-packages (from requests>=2.18.4->azure-core<2.0.0,>=1.14.0->azure-data-tables) (1.24.3)\n",
            "Requirement already satisfied: idna<3,>=2.5 in /usr/local/lib/python3.7/dist-packages (from requests>=2.18.4->azure-core<2.0.0,>=1.14.0->azure-data-tables) (2.10)\n",
            "Requirement already satisfied: oauthlib>=3.0.0 in /usr/local/lib/python3.7/dist-packages (from requests-oauthlib>=0.5.0->msrest>=0.6.21->azure-data-tables) (3.2.0)\n",
            "Installing collected packages: isodate, msrest, azure-core, azure-data-tables\n",
            "Successfully installed azure-core-1.22.0 azure-data-tables-12.2.0 isodate-0.6.1 msrest-0.6.21\n"
          ]
        }
      ],
      "source": [
        "pip install azure-data-tables"
      ]
    },
    {
      "cell_type": "markdown",
      "source": [
        "# Azure Table (CloudDB)\n",
        "\n",
        "1. create DB on Azure Protal\n",
        "2. Insert Data\n",
        "3. Query Data"
      ],
      "metadata": {
        "id": "DPatSclBKLrh"
      }
    },
    {
      "cell_type": "code",
      "source": [
        "from azure.data.tables import TableServiceClient\n",
        "from azure.data.tables import TableEntity"
      ],
      "metadata": {
        "id": "KG16_w9uKBmg"
      },
      "execution_count": 2,
      "outputs": []
    },
    {
      "cell_type": "code",
      "source": [
        "table_service = TableServiceClient.from_connection_string(conn_str='DefaultEndpointsProtocol=https;AccountName=aiprototypemeenters;AccountKey=kTyZBos6m0iTthtPluCX2sz/OmEPbFXAIcq4LVk4cRhv3IGZeVDGP/Pk1PozIQx+BeeHTgeLjDt5TMpD9iVOOQ==;EndpointSuffix=core.windows.net')"
      ],
      "metadata": {
        "id": "u6-xIhiRMhxs"
      },
      "execution_count": 4,
      "outputs": []
    },
    {
      "cell_type": "markdown",
      "source": [
        "# Insert Data"
      ],
      "metadata": {
        "id": "4bizPlcKKjpW"
      }
    },
    {
      "cell_type": "code",
      "source": [
        "table_client = table_service.get_table_client(table_name=\"testdb\")"
      ],
      "metadata": {
        "id": "y1JVl0N9NShx"
      },
      "execution_count": 5,
      "outputs": []
    },
    {
      "cell_type": "code",
      "source": [
        "task = TableEntity()\n",
        "task[u'PartitionKey'] = u'part1'\n",
        "task[u'RowKey'] = u'001'\n",
        "task[u'name'] = u'kirito'\n",
        "task[u'age'] = 15\n",
        "table_client.create_entity(task)"
      ],
      "metadata": {
        "colab": {
          "base_uri": "https://localhost:8080/"
        },
        "id": "671zVqysL0AK",
        "outputId": "442b084e-2484-4aaf-e07f-0f08d2ee0cf1"
      },
      "execution_count": 6,
      "outputs": [
        {
          "output_type": "execute_result",
          "data": {
            "text/plain": [
              "{'date': datetime.datetime(2022, 2, 8, 2, 46, 14, tzinfo=datetime.timezone.utc),\n",
              " 'etag': 'W/\"datetime\\'2022-02-08T02%3A46%3A15.3697744Z\\'\"',\n",
              " 'version': '2019-02-02'}"
            ]
          },
          "metadata": {},
          "execution_count": 6
        }
      ]
    },
    {
      "cell_type": "code",
      "source": [
        "task = {u'PartitionKey': u'part1', u'RowKey': u'002',\n",
        "        u'name': u'asuna', u'place': 'sao',u'age':16}\n",
        "table_client.create_entity(entity=task)"
      ],
      "metadata": {
        "colab": {
          "base_uri": "https://localhost:8080/"
        },
        "id": "dhLA7cbDOXOE",
        "outputId": "ceabc330-a17b-4b90-92bc-f4d2a2d62d70"
      },
      "execution_count": 9,
      "outputs": [
        {
          "output_type": "execute_result",
          "data": {
            "text/plain": [
              "{'date': datetime.datetime(2022, 2, 8, 2, 51, 9, tzinfo=datetime.timezone.utc),\n",
              " 'etag': 'W/\"datetime\\'2022-02-08T02%3A51%3A09.6926465Z\\'\"',\n",
              " 'version': '2019-02-02'}"
            ]
          },
          "metadata": {},
          "execution_count": 9
        }
      ]
    },
    {
      "cell_type": "code",
      "source": [
        ""
      ],
      "metadata": {
        "id": "we-dOZ-PPIW6"
      },
      "execution_count": null,
      "outputs": []
    }
  ]
}
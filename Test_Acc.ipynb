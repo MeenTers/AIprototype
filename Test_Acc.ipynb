{
  "nbformat": 4,
  "nbformat_minor": 0,
  "metadata": {
    "colab": {
      "name": "Test_Acc.ipynb",
      "provenance": [],
      "authorship_tag": "ABX9TyMxwmAMU9Y8Bk3vZnkfMesL",
      "include_colab_link": true
    },
    "kernelspec": {
      "name": "python3",
      "display_name": "Python 3"
    },
    "language_info": {
      "name": "python"
    },
    "accelerator": "GPU"
  },
  "cells": [
    {
      "cell_type": "markdown",
      "metadata": {
        "id": "view-in-github",
        "colab_type": "text"
      },
      "source": [
        "<a href=\"https://colab.research.google.com/github/MeenTers/AIprototype/blob/main/Test_Acc.ipynb\" target=\"_parent\"><img src=\"https://colab.research.google.com/assets/colab-badge.svg\" alt=\"Open In Colab\"/></a>"
      ]
    },
    {
      "cell_type": "code",
      "execution_count": 1,
      "metadata": {
        "colab": {
          "base_uri": "https://localhost:8080/"
        },
        "id": "9WT1_LdhIdPH",
        "outputId": "61d2322c-547a-4f2d-d175-3c898e762625"
      },
      "outputs": [
        {
          "output_type": "stream",
          "name": "stdout",
          "text": [
            "Drive already mounted at /content/drive; to attempt to forcibly remount, call drive.mount(\"/content/drive\", force_remount=True).\n"
          ]
        }
      ],
      "source": [
        "from google.colab import drive\n",
        "drive.mount('/content/drive')"
      ]
    },
    {
      "cell_type": "code",
      "source": [
        "import torch\n",
        "from torch import nn, load, utils\n",
        "from tqdm import tqdm\n",
        "import matplotlib.pyplot as plt\n",
        "import numpy as np\n",
        "from torchvision import datasets, transforms, models\n",
        "from torchvision.models.vgg import model_urls\n",
        "from os import path, listdir\n",
        "model_urls['vgg19'] = model_urls['vgg19'].replace('https://', 'http://')"
      ],
      "metadata": {
        "id": "oV99IKwOIoQb"
      },
      "execution_count": 2,
      "outputs": []
    },
    {
      "cell_type": "code",
      "source": [
        "from scipy.spatial import distance_matrix\n",
        "from scipy.spatial import distance\n",
        "import pandas as pd"
      ],
      "metadata": {
        "id": "7QIdVXkhI6Fj"
      },
      "execution_count": 3,
      "outputs": []
    },
    {
      "cell_type": "code",
      "source": [
        "import matplotlib.image as mpimg\n",
        "import matplotlib.pyplot as plt\n",
        "import cv2"
      ],
      "metadata": {
        "id": "EamHxyOFI7kH"
      },
      "execution_count": 4,
      "outputs": []
    },
    {
      "cell_type": "markdown",
      "source": [
        "# VGG model"
      ],
      "metadata": {
        "id": "YhNCsVclI-RE"
      }
    },
    {
      "cell_type": "code",
      "source": [
        "class VGG:\n",
        "\tdef __init__(self):\n",
        "\t\tmodel = models.vgg19(pretrained=True, progress=True)\n",
        "\t\tmodel.classifier = nn.Sequential(*list(model.classifier.children())[:3])\n",
        "\t\tself.model = model.cuda().eval()\n",
        "\n",
        "\tdef __call__(self, x):\n",
        "\t\treturn self.model(x)"
      ],
      "metadata": {
        "id": "3f4Q3CTcI8yY"
      },
      "execution_count": 5,
      "outputs": []
    },
    {
      "cell_type": "code",
      "source": [
        "vgg = VGG()"
      ],
      "metadata": {
        "id": "g4N3GcfBJAQm"
      },
      "execution_count": 6,
      "outputs": []
    },
    {
      "cell_type": "markdown",
      "source": [
        "# Create Features Extraction Function"
      ],
      "metadata": {
        "id": "XPA6_70zJDd6"
      }
    },
    {
      "cell_type": "code",
      "source": [
        "def get_features(model, loader):\n",
        "    features = []\n",
        "    with torch.no_grad():\n",
        "        for batch, _ in tqdm(loader):\n",
        "            if torch.cuda.is_available():\n",
        "                batch = batch.cuda()\n",
        "            b_features = model(batch).detach().cpu().numpy()\n",
        "            for f in b_features:\n",
        "                features.append(f)\n",
        "\n",
        "    return features"
      ],
      "metadata": {
        "id": "gLyRjsINJBzS"
      },
      "execution_count": 7,
      "outputs": []
    },
    {
      "cell_type": "markdown",
      "source": [
        "# Create Loading the data Function"
      ],
      "metadata": {
        "id": "TFMxG2gwJS4e"
      }
    },
    {
      "cell_type": "code",
      "source": [
        "def get_dataset(images_path):\n",
        "  transform = transforms.Compose([\n",
        "    transforms.Resize(size=32),\n",
        "    transforms.ToTensor(),\n",
        "    transforms.Normalize((0.4914, 0.4822, 0.4465), (0.2023, 0.1994, 0.2010)),\n",
        "  ])\n",
        "\n",
        "  dataset = datasets.ImageFolder(images_path, transform=transform)\n",
        "  loader = utils.data.DataLoader(dataset, batch_size=100, shuffle=False, num_workers=1, pin_memory=True)\n",
        "  return loader"
      ],
      "metadata": {
        "id": "8ddXIommJRMG"
      },
      "execution_count": 11,
      "outputs": []
    },
    {
      "cell_type": "code",
      "source": [
        "def get_euclidean(base_car,diff_view):\n",
        "    A = []\n",
        "    for i in range(len(diff_view)):\n",
        "        x = distance.euclidean(base_car[i],diff_view[i])\n",
        "        A.append(x)\n",
        "    return(A)"
      ],
      "metadata": {
        "id": "N3zGGxmsJU4N"
      },
      "execution_count": 9,
      "outputs": []
    },
    {
      "cell_type": "markdown",
      "source": [
        "# Test"
      ],
      "metadata": {
        "id": "XtNx06TDJd_F"
      }
    },
    {
      "cell_type": "code",
      "source": [
        "car1 = get_dataset(r'/content/drive/MyDrive/test_acc/base/base')\n",
        "dmg1 = get_dataset(r'/content/drive/MyDrive/test_acc/dmg/dmg/dmg')"
      ],
      "metadata": {
        "id": "YT5q7N2lJWvQ"
      },
      "execution_count": 12,
      "outputs": []
    },
    {
      "cell_type": "code",
      "source": [
        "id1b = get_features(vgg,car1)\n",
        "id1v = get_features(vgg,dmg1)"
      ],
      "metadata": {
        "colab": {
          "base_uri": "https://localhost:8080/"
        },
        "id": "Zg7usBfeJwQO",
        "outputId": "ba2834a9-affb-48e7-8382-5105765724d0"
      },
      "execution_count": 13,
      "outputs": [
        {
          "output_type": "stream",
          "name": "stderr",
          "text": [
            "100%|██████████| 1/1 [00:02<00:00,  2.45s/it]\n",
            "100%|██████████| 1/1 [00:02<00:00,  2.30s/it]\n"
          ]
        }
      ]
    },
    {
      "cell_type": "code",
      "source": [
        "dmg = get_euclidean(id1b,id1v)\n",
        "dmg "
      ],
      "metadata": {
        "colab": {
          "base_uri": "https://localhost:8080/"
        },
        "id": "FioQI2sVK1QE",
        "outputId": "9f888041-8831-4f15-c193-1edd057631e0"
      },
      "execution_count": 14,
      "outputs": [
        {
          "output_type": "execute_result",
          "data": {
            "text/plain": [
              "[11.785266876220703, 26.288467407226562, 4.0519914627075195, 15.6392822265625]"
            ]
          },
          "metadata": {},
          "execution_count": 14
        }
      ]
    },
    {
      "cell_type": "code",
      "source": [
        "car2 = get_dataset(r'/content/drive/MyDrive/test_acc/base/base')\n",
        "dmg2 = get_dataset(r'/content/drive/MyDrive/test_acc/dmg/ldmg/ldmg')"
      ],
      "metadata": {
        "id": "mP8gyodtK8BH"
      },
      "execution_count": 18,
      "outputs": []
    },
    {
      "cell_type": "code",
      "source": [
        "id2b = get_features(vgg,car2)\n",
        "id2v = get_features(vgg,dmg2)"
      ],
      "metadata": {
        "colab": {
          "base_uri": "https://localhost:8080/"
        },
        "id": "-38qlu0GLIfm",
        "outputId": "39bc44e5-ff97-4671-cd1e-287ee0050cae"
      },
      "execution_count": 19,
      "outputs": [
        {
          "output_type": "stream",
          "name": "stderr",
          "text": [
            "100%|██████████| 1/1 [00:00<00:00,  1.83it/s]\n",
            "100%|██████████| 1/1 [00:02<00:00,  2.38s/it]\n"
          ]
        }
      ]
    },
    {
      "cell_type": "code",
      "source": [
        "ldmg = get_euclidean(id2b,id2v)\n",
        "ldmg "
      ],
      "metadata": {
        "colab": {
          "base_uri": "https://localhost:8080/"
        },
        "id": "KAHLNzklLg8R",
        "outputId": "3d15454f-0986-49af-9b0c-c456f2cce225"
      },
      "execution_count": 20,
      "outputs": [
        {
          "output_type": "execute_result",
          "data": {
            "text/plain": [
              "[1.6285629272460938,\n",
              " 21.440866470336914,\n",
              " 3.2205731868743896,\n",
              " 14.069794654846191]"
            ]
          },
          "metadata": {},
          "execution_count": 20
        }
      ]
    },
    {
      "cell_type": "code",
      "source": [
        "car3 = get_dataset(r'/content/drive/MyDrive/test_acc/base/base')\n",
        "dmg3 = get_dataset(r'/content/drive/MyDrive/test_acc/dmg/mdmg/mdmg')"
      ],
      "metadata": {
        "id": "-EAVwsV3LkLF"
      },
      "execution_count": 21,
      "outputs": []
    },
    {
      "cell_type": "code",
      "source": [
        "id3b = get_features(vgg,car3)\n",
        "id3v = get_features(vgg,dmg3)"
      ],
      "metadata": {
        "colab": {
          "base_uri": "https://localhost:8080/"
        },
        "id": "Muj7UM1yLrDw",
        "outputId": "398ea4e4-3102-456b-9de1-00e7cdca10e1"
      },
      "execution_count": 22,
      "outputs": [
        {
          "output_type": "stream",
          "name": "stderr",
          "text": [
            "100%|██████████| 1/1 [00:00<00:00,  4.26it/s]\n",
            "100%|██████████| 1/1 [00:02<00:00,  2.31s/it]\n"
          ]
        }
      ]
    },
    {
      "cell_type": "code",
      "source": [
        "mdmg = get_euclidean(id3b,id3v)\n",
        "mdmg "
      ],
      "metadata": {
        "colab": {
          "base_uri": "https://localhost:8080/"
        },
        "id": "mIObVHYbLvEJ",
        "outputId": "f606a121-efa9-4d1c-cc2f-bc2e649d56eb"
      },
      "execution_count": 23,
      "outputs": [
        {
          "output_type": "execute_result",
          "data": {
            "text/plain": [
              "[26.43695831298828, 35.972679138183594, 38.565250396728516, 27.064756393432617]"
            ]
          },
          "metadata": {},
          "execution_count": 23
        }
      ]
    },
    {
      "cell_type": "code",
      "source": [
        "car4 = get_dataset(r'/content/drive/MyDrive/test_acc/base/base')\n",
        "dmg4 = get_dataset(r'/content/drive/MyDrive/test_acc/base/base')"
      ],
      "metadata": {
        "id": "CC3oauprL3dm"
      },
      "execution_count": 24,
      "outputs": []
    },
    {
      "cell_type": "code",
      "source": [
        "id4b = get_features(vgg,car4)\n",
        "id4v = get_features(vgg,dmg4)"
      ],
      "metadata": {
        "colab": {
          "base_uri": "https://localhost:8080/"
        },
        "id": "B6Yh5_muL-UW",
        "outputId": "6ced9584-acff-4e07-f96a-ddaacb3073bb"
      },
      "execution_count": 25,
      "outputs": [
        {
          "output_type": "stream",
          "name": "stderr",
          "text": [
            "100%|██████████| 1/1 [00:00<00:00,  4.44it/s]\n",
            "100%|██████████| 1/1 [00:00<00:00,  4.43it/s]\n"
          ]
        }
      ]
    },
    {
      "cell_type": "code",
      "source": [
        "nodmg = get_euclidean(id4b,id4v)\n",
        "nodmg "
      ],
      "metadata": {
        "colab": {
          "base_uri": "https://localhost:8080/"
        },
        "id": "A1_x_rILMCB9",
        "outputId": "1b250b33-88e9-44eb-deca-221fba5433d3"
      },
      "execution_count": 26,
      "outputs": [
        {
          "output_type": "execute_result",
          "data": {
            "text/plain": [
              "[0.0, 0.0, 0.0, 0.0]"
            ]
          },
          "metadata": {},
          "execution_count": 26
        }
      ]
    },
    {
      "cell_type": "code",
      "source": [
        "def get_dmg(eucli):\n",
        "  for j in range(4):\n",
        "          if round(eucli[j]) < 0.5:\n",
        "              print('N')\n",
        "          elif   0.5 <= round(eucli[j]) <= 10.5:\n",
        "              print('L')\n",
        "          elif 10.5 < round(eucli[j]) <= 30:\n",
        "              print('M')\n",
        "          elif round(eucli[j]) > 30:\n",
        "               print('H')"
      ],
      "metadata": {
        "id": "dq_vjRs-MGAr"
      },
      "execution_count": 28,
      "outputs": []
    },
    {
      "cell_type": "code",
      "source": [
        "get_dmg(nodmg)"
      ],
      "metadata": {
        "colab": {
          "base_uri": "https://localhost:8080/"
        },
        "id": "uHMyBU2bOaHe",
        "outputId": "f4de57d2-9156-4537-f029-56294a48819a"
      },
      "execution_count": 30,
      "outputs": [
        {
          "output_type": "stream",
          "name": "stdout",
          "text": [
            "N\n",
            "N\n",
            "N\n",
            "N\n"
          ]
        }
      ]
    },
    {
      "cell_type": "code",
      "source": [
        "get_dmg(ldmg)"
      ],
      "metadata": {
        "colab": {
          "base_uri": "https://localhost:8080/"
        },
        "id": "PoV9VeGiOlk4",
        "outputId": "b17fb409-9ac4-4648-fee4-d0a60841ffff"
      },
      "execution_count": 31,
      "outputs": [
        {
          "output_type": "stream",
          "name": "stdout",
          "text": [
            "L\n",
            "M\n",
            "L\n",
            "M\n"
          ]
        }
      ]
    },
    {
      "cell_type": "code",
      "source": [
        "get_dmg(dmg)"
      ],
      "metadata": {
        "colab": {
          "base_uri": "https://localhost:8080/"
        },
        "id": "NhRXi8L3PV89",
        "outputId": "5610a5db-46ea-49a7-c8c7-2e170c2b0600"
      },
      "execution_count": 32,
      "outputs": [
        {
          "output_type": "stream",
          "name": "stdout",
          "text": [
            "M\n",
            "M\n",
            "L\n",
            "M\n"
          ]
        }
      ]
    },
    {
      "cell_type": "code",
      "source": [
        "get_dmg(mdmg)"
      ],
      "metadata": {
        "colab": {
          "base_uri": "https://localhost:8080/"
        },
        "id": "joNapFEYP39l",
        "outputId": "1ed9e7e4-f638-45cd-cbe4-02976c3c163f"
      },
      "execution_count": 33,
      "outputs": [
        {
          "output_type": "stream",
          "name": "stdout",
          "text": [
            "M\n",
            "H\n",
            "H\n",
            "M\n"
          ]
        }
      ]
    },
    {
      "cell_type": "code",
      "source": [
        "from sklearn.metrics import confusion_matrix"
      ],
      "metadata": {
        "id": "SuWFVHiMP7_Q"
      },
      "execution_count": 41,
      "outputs": []
    },
    {
      "cell_type": "markdown",
      "source": [
        "# Predicted values\n",
        "y_pred = [\"N\", \"N\", \"N\", \"N\", \"L\",\"M\",\"L\",\"M\",\"M\",\"M\",\"L\",\"M\",\"M\",\"H\",\"H\",\"M\"]\n",
        "# Actual values\n",
        "y_act = [\"N\", \"N\", \"N\", \"N\", \"L\",\"L\",\"L\",\"L\",\"M\",\"M\",\"M\",\"M\",\"H\",\"H\",\"H\",\"H\"]"
      ],
      "metadata": {
        "id": "MQnwFESzX9Uj"
      }
    },
    {
      "cell_type": "code",
      "source": [
        "# Predicted values\n",
        "y_pred = [\"N\", \"N\", \"N\", \"N\", \"L\",\"M\",\"L\",\"M\",\"M\",\"M\",\"L\",\"M\",\"M\",\"H\",\"H\",\"M\"]\n",
        "# Actual values\n",
        "y_act = [\"N\", \"N\", \"N\", \"N\", \"L\",\"L\",\"L\",\"L\",\"M\",\"M\",\"M\",\"M\",\"H\",\"H\",\"H\",\"H\"]"
      ],
      "metadata": {
        "id": "cvIjzwfqQabb"
      },
      "execution_count": 70,
      "outputs": []
    },
    {
      "cell_type": "code",
      "source": [
        "from torchvision.transforms.functional import normalize\n",
        "confusion_matrix(y_act, y_pred,normalize='true')"
      ],
      "metadata": {
        "colab": {
          "base_uri": "https://localhost:8080/"
        },
        "id": "XZbJNHj7Ryr1",
        "outputId": "2833c81f-77bc-4e2e-df35-45c0049c79af"
      },
      "execution_count": 77,
      "outputs": [
        {
          "output_type": "execute_result",
          "data": {
            "text/plain": [
              "array([[0.5 , 0.  , 0.5 , 0.  ],\n",
              "       [0.  , 0.5 , 0.5 , 0.  ],\n",
              "       [0.  , 0.25, 0.75, 0.  ],\n",
              "       [0.  , 0.  , 0.  , 1.  ]])"
            ]
          },
          "metadata": {},
          "execution_count": 77
        }
      ]
    },
    {
      "cell_type": "code",
      "source": [
        "class_names"
      ],
      "metadata": {
        "colab": {
          "base_uri": "https://localhost:8080/"
        },
        "id": "AKE_GXn7U9Od",
        "outputId": "9a4fb143-a101-4c0e-e1ec-be1224b7ff1c"
      },
      "execution_count": 67,
      "outputs": [
        {
          "output_type": "execute_result",
          "data": {
            "text/plain": [
              "array(['setosa', 'versicolor', 'virginica'], dtype='<U10')"
            ]
          },
          "metadata": {},
          "execution_count": 67
        }
      ]
    },
    {
      "cell_type": "code",
      "source": [
        ""
      ],
      "metadata": {
        "id": "LJaDPpMGXYb8"
      },
      "execution_count": null,
      "outputs": []
    }
  ]
}